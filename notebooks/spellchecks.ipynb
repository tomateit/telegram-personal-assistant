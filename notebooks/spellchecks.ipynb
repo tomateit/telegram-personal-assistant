{
 "cells": [
  {
   "cell_type": "code",
   "execution_count": 2,
   "id": "9d36e2c5",
   "metadata": {},
   "outputs": [
    {
     "name": "stdout",
     "output_type": "stream",
     "text": [
      "/home/codeholder/code/python-playground/app_telegram_pa\n"
     ]
    }
   ],
   "source": [
    "%cd .."
   ]
  },
  {
   "cell_type": "markdown",
   "id": "c06620ec",
   "metadata": {},
   "source": [
    "# Spellcheckers tests"
   ]
  },
  {
   "cell_type": "markdown",
   "id": "a2de9e44",
   "metadata": {},
   "source": [
    "## JamSpell"
   ]
  },
  {
   "cell_type": "code",
   "execution_count": 1,
   "id": "dfa829ec",
   "metadata": {
    "scrolled": true
   },
   "outputs": [
    {
     "name": "stdout",
     "output_type": "stream",
     "text": [
      "Collecting jamspell\n",
      "  Using cached https://files.pythonhosted.org/packages/02/35/2ad708256367dcf3443766ca588a856d3334abc8dbbd760ff19e36149308/jamspell-0.0.12.tar.gz\n",
      "Installing collected packages: jamspell\n",
      "  Running setup.py install for jamspell ... \u001b[?25ldone\n",
      "\u001b[?25hSuccessfully installed jamspell-0.0.12\n",
      "\u001b[33mWARNING: You are using pip version 19.2.3, however version 21.2.4 is available.\n",
      "You should consider upgrading via the 'pip install --upgrade pip' command.\u001b[0m\n"
     ]
    }
   ],
   "source": [
    "!pip install jamspell"
   ]
  },
  {
   "cell_type": "code",
   "execution_count": 3,
   "id": "6530b56b",
   "metadata": {},
   "outputs": [
    {
     "data": {
      "text/plain": [
       "True"
      ]
     },
     "execution_count": 3,
     "metadata": {},
     "output_type": "execute_result"
    }
   ],
   "source": [
    "import jamspell\n",
    "\n",
    "corrector = jamspell.TSpellCorrector()\n",
    "\n",
    "corrector.LoadLangModel('./vendor/ru_small.bin')"
   ]
  },
  {
   "cell_type": "code",
   "execution_count": 6,
   "id": "9869fc98",
   "metadata": {},
   "outputs": [
    {
     "data": {
      "text/plain": [
       "'Я низнаю не чего, одиночку сложна ошибиться'"
      ]
     },
     "execution_count": 6,
     "metadata": {},
     "output_type": "execute_result"
    }
   ],
   "source": [
    "corrector.FixFragment('Я низнаю не чего, водиночку сложна неошибиться')"
   ]
  },
  {
   "cell_type": "code",
   "execution_count": 4,
   "id": "96eff108",
   "metadata": {},
   "outputs": [
    {
     "data": {
      "text/plain": [
       "'В следствие через чур не опытной машынистки'"
      ]
     },
     "execution_count": 4,
     "metadata": {},
     "output_type": "execute_result"
    }
   ],
   "source": [
    "corrector.FixFragment('В следствие через чур не опытной машынистки')"
   ]
  },
  {
   "cell_type": "code",
   "execution_count": null,
   "id": "34234528",
   "metadata": {},
   "outputs": [],
   "source": []
  }
 ],
 "metadata": {
  "kernelspec": {
   "display_name": "Telegram PA",
   "language": "python",
   "name": "telegram_pa"
  },
  "language_info": {
   "codemirror_mode": {
    "name": "ipython",
    "version": 3
   },
   "file_extension": ".py",
   "mimetype": "text/x-python",
   "name": "python",
   "nbconvert_exporter": "python",
   "pygments_lexer": "ipython3",
   "version": "3.8.2"
  }
 },
 "nbformat": 4,
 "nbformat_minor": 5
}
